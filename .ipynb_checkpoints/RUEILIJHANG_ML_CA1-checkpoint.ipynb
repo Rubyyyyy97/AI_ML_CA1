{
 "cells": [
  {
   "cell_type": "markdown",
   "id": "6f73427c",
   "metadata": {},
   "source": [
    "# 1. Intial analysis of the data (EDA)"
   ]
  },
  {
   "cell_type": "code",
   "execution_count": 1,
   "id": "122ab745",
   "metadata": {},
   "outputs": [],
   "source": [
    "import pandas as pd"
   ]
  },
  {
   "cell_type": "code",
   "execution_count": 3,
   "id": "ec95a988",
   "metadata": {},
   "outputs": [],
   "source": [
    "# Read the CSV file\n",
    "df = pd.read_csv('log2.csv')"
   ]
  },
  {
   "cell_type": "code",
   "execution_count": null,
   "id": "8d834e02",
   "metadata": {},
   "outputs": [],
   "source": []
  }
 ],
 "metadata": {
  "kernelspec": {
   "display_name": "Python 3 (ipykernel)",
   "language": "python",
   "name": "python3"
  },
  "language_info": {
   "codemirror_mode": {
    "name": "ipython",
    "version": 3
   },
   "file_extension": ".py",
   "mimetype": "text/x-python",
   "name": "python",
   "nbconvert_exporter": "python",
   "pygments_lexer": "ipython3",
   "version": "3.11.4"
  }
 },
 "nbformat": 4,
 "nbformat_minor": 5
}
